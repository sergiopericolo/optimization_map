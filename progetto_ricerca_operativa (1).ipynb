{
  "nbformat": 4,
  "nbformat_minor": 0,
  "metadata": {
    "colab": {
      "provenance": []
    },
    "kernelspec": {
      "name": "python3",
      "display_name": "Python 3"
    },
    "language_info": {
      "name": "python"
    }
  },
  "cells": [
    {
      "cell_type": "markdown",
      "source": [
        "<br>\n",
        "\n",
        "<h1><b>PROGETTO RICERCA OPERATIVA</b></h1>\n",
        "<h2>Un'applicazione del modello di set covering<h2>\n",
        "<p>\n",
        "Di Lapi Sergio, &nbsp; mat. &nbsp; : &nbsp; 747808\n",
        "<br>\n",
        "Atzori Guendalina, &nbsp; mat. &nbsp; : &nbsp; 745416\n",
        "<p>\n",
        "\n",
        "<br>\n",
        "\n",
        "<hr>"
      ],
      "metadata": {
        "id": "Jh_UEFqhoAze"
      }
    },
    {
      "cell_type": "markdown",
      "source": [
        "<h2>Consegna del progetto asseganto<h2>\n",
        "\n",
        "<p>\n",
        "L’amministrazione comunale deve decidere l’apertura delle stazioni dei vigili del fuoco tra 6 possibili siti in modo da garantire che ognuna delle 5 zone in cui è suddiviso il comune sia raggiungibile entro 8 minuti.\n",
        "<br><br>\n",
        "Nella seguente tabella sono contrassegnate con “*” le zone raggiungibili entro 8 minuti da ciascuna stazione e sono inclusi i costi di apertura per ogni stazione.\n",
        "<p>\n",
        "\n",
        "<br>\n",
        "\n",
        "$$\n",
        "\\begin{array}{|c|c|c|c|c|c|c|}\n",
        "\\hline\n",
        "\\textit{Zone/Stazioni} & \\textit{1} & \\textit{2} & \\textit{3} & \\textit{4} & \\textit{5} & \\textit{6} \\\\\n",
        "\\hline\n",
        "\\textit{A} &     & *   & *   & *   & *   &     \\\\\n",
        "\\textit{B} &     &     & *   & *   &     &     \\\\\n",
        "\\textit{C} & *   & *   &     &     &     & *   \\\\\n",
        "\\textit{D} &     &     &     &     & *   & *   \\\\\n",
        "\\textit{E} & *   & *   & *   &     &     &     \\\\\n",
        "\\hline\n",
        "\\textit{Costi di apertura} & 4 & 6 & 10 & 14 & 5 & 6 \\\\\n",
        "\\hline\n",
        "\\end{array}\n",
        "$$\n",
        "\n",
        "<br>\n",
        "\n",
        "<p>\n",
        "Si decida quali centri di emergenza aprire con costo totale minimo in modo da garantire che ogni zona sia servita da almeno un centro di emergenza.\n",
        "<p>\n",
        "\n",
        "\n",
        "\n",
        "\n"
      ],
      "metadata": {
        "id": "7YvBO7aZpset"
      }
    },
    {
      "cell_type": "markdown",
      "source": [
        "<h2>Intuizione grafica<h2>\n",
        "\n",
        "<p>\n",
        "Per poter rappresentare e visualizzare graficamente il nostro problema supponiamo che siano vere le seguenti condizioni:\n",
        "<br>\n",
        "Fig_A)\n",
        "\n",
        "*   da ogni generica stazione dei viglili (quad. rosso) può partire un'auto (cerchio giallo) a velocità costante x, senza accelerazione e può compiere un tagitto lineare (non può sterzare)\n",
        "*   non esistono le strade, ciò vuol dire che ogni auto può percorre il tragitto in qualsiasi direzione (o angolo)\n",
        "*   tutte le auto dei vigili del fuoco hanno le stesse caratteristiche (e velocità)\n",
        "\n",
        "Da tali condizioni ne deriva:\n",
        "\n",
        "Fig_B)\n",
        "\n",
        "*   l'insieme dei \"punti limiti\" (ovvero il punto l'auto che percorre il tragitto i si trova al minuto 8:00) descrive una circonferenza\n",
        "\n",
        "\n",
        "Fig_C)\n",
        "*   la zona da servire (cerchio blu) viene servito entro 8 minuti s.s.s. si trova all'interno della circonferenza (circonferenza inclusa)\n",
        "\n",
        "<p>"
      ],
      "metadata": {
        "id": "Owx17xIqIq0G"
      }
    },
    {
      "cell_type": "markdown",
      "source": [
        "<br>\n",
        "<br>\n",
        "<br>\n",
        "<br>\n",
        "<br>\n",
        "<br>\n",
        "<br>\n",
        "<br>\n",
        "<br>\n",
        "<br>\n",
        "<br>\n",
        "<br>"
      ],
      "metadata": {
        "id": "_ljZeWWBFQGd"
      }
    },
    {
      "cell_type": "markdown",
      "source": [
        "<p>\n",
        "Ponendo a sistema quanto premesso sopra, ricaviamo un grafico coerente (di una possibile delle infinite soluzioni) della disposizione di zone da servire e la posizione di eventuale apertura delle stazioni dei vigili del fuoco.\n",
        "<p>"
      ],
      "metadata": {
        "id": "XImPtWULPy0r"
      }
    },
    {
      "cell_type": "markdown",
      "source": [
        "\n",
        "<br>\n",
        "<br>\n",
        "<br>\n",
        "<br>\n",
        "<br>\n",
        "<br>\n",
        "<br>\n",
        "<br>\n",
        "<br>\n",
        "<br>\n",
        "<br>\n",
        "<br>\n",
        "<br>\n",
        "<br>\n",
        "<br>\n",
        "<br>\n",
        "<br>\n",
        "<br>\n",
        "<br>\n",
        "<br>\n",
        "<br>\n",
        "<br>\n",
        "<br>\n",
        "<br>\n",
        "<br>\n",
        "<br>\n",
        "<br>\n",
        "<br>"
      ],
      "metadata": {
        "id": "sW7pzMXKFaHD"
      }
    },
    {
      "cell_type": "markdown",
      "source": [
        "<p>\n",
        "N.B.:\n",
        "<br>\n",
        "Il grafico sopra (mappa della possibile configurazione valida) non ci fornisce nessuna soluzione!!!\n",
        "<p>\n",
        "<p>\n",
        "Ci è tuttavia utile per visualizzare meglio il problema.\n",
        "<p>"
      ],
      "metadata": {
        "id": "uMDifQd6RH5A"
      }
    },
    {
      "cell_type": "markdown",
      "source": [
        "<br>\n",
        "<h2>Il modello - set covering<h2>\n",
        "\n",
        "\n",
        "\n",
        "\n",
        "<h3>Indici:<h3>\n",
        "$$\n",
        "\\begin{align*}\n",
        "i &= \\text{A, B, C, D, E} \\quad &&\\text{(zone)} \\\\\n",
        "j &= 1, 2, 3, 4, 5, 6 \\quad &&\\text{(stazioni)}\n",
        "\\end{align*}\n",
        "$$\n",
        "\n",
        "\n",
        "\n",
        "\n",
        "\n",
        "\n",
        "<br><br>\n",
        "<h3>Dati:<h3>\n",
        "$$\n",
        "\\begin{align*}\n",
        "\\text{costo}_j = [\\, 4,\\, 6,\\, 10,\\, 14,\\, 5,\\, 6 \\,]\n",
        "\\end{align*}\n",
        "$$\n",
        "<br>\n",
        "$$\n",
        "\\\n",
        "\\text{servizio}_{ij} =\n",
        "\\begin{bmatrix}\n",
        "  & * & * & * & * &  \\\\\n",
        "  &   & * & * &   &  \\\\\n",
        "* & * &   &   &   & *\\\\\n",
        "  &   &   &   & * & *\\\\\n",
        "* & * & * &   &   &  \n",
        "\\end{bmatrix}\n",
        "\\qquad\n",
        "\\xrightarrow{\\text{trasformazione}}\n",
        "\\qquad\n",
        "\\text{servizio}_{ij} =\n",
        "\\begin{bmatrix}\n",
        "0 & 1 & 1 & 1 & 1 & 0\\\\\n",
        "0 & 0 & 1 & 1 & 0 & 0\\\\\n",
        "1 & 1 & 0 & 0 & 0 & 1\\\\\n",
        "0 & 0 & 0 & 0 & 1 & 1\\\\\n",
        "1 & 1 & 1 & 0 & 0 & 0\n",
        "\\end{bmatrix}\n",
        "\\\n",
        "$$\n",
        "\n",
        "<br>\n",
        "<p>\n",
        "Il vettore &nbsp;<i>costo_j</i>&nbsp; rappresenta il costo di apertura (che può dipendere da vari fattori, vedi sotto \"variazioni sui dati\") della stazione &nbsp;<i>j</i>&nbsp; espresso in milioni di euro.<br>\n",
        "Vale a dire 4 mln per aprire la stazione 1, 6 mln per la stazione 2 ...\n",
        "<br><br>\n",
        "La matrice &nbsp;<i>servizio_ij</i>&nbsp; invece rappresenta la possibilità della stazione &nbsp;<i>j</i>&nbsp; di servire la zona &nbsp;<i>i</i>&nbsp; o meno.<br>\n",
        "Dato che gli asterischi non sono direttamente modellabili matematicamente trasformiamo la matrice in una matrice di 0 e 1:\n",
        "\n",
        "*   1 se la stazione &nbsp;<i>j</i>&nbsp; riuscirebbe a servire la zona &nbsp;<i>i</i>&nbsp;\n",
        "*   0 altrimenti\n",
        "\n",
        "n.b.:&nbsp; la possibilità eventuale di servire il centro &nbsp;<i>i</i>&nbsp; qualora la stazione &nbsp;<i>j</i>&nbsp; fosse aperta!\n",
        "<p>\n",
        "\n",
        "\n",
        "\n",
        "\n",
        "\n",
        "<br><br>\n",
        "<h3>Variabili decisionali:<h3>\n",
        "$$\n",
        "\\begin{align*}\n",
        "y_j \\in \\{0,1\\} \\quad \\text{dove} \\quad\n",
        "\\begin{cases}\n",
        "1 & \\text{se aperto} \\\\\n",
        "0 & \\text{altrimenti}\n",
        "\\end{cases}\n",
        "\\end{align*}\n",
        "$$\n",
        "<br>\n",
        "<p>\n",
        "La decisione da prendere è:\n",
        "\n",
        "* 1, aprire il centro\n",
        "* 0, altrimenti\n",
        "\n",
        "Ci è necessaria perciò una variabile binaria, che può assumere valori tra 0 e 1, ossia può assumere valori in uno specifico sottoinsieme di Z+.<br>\n",
        "Un problema di set-covering è pertanto uno particolare problema ILP.\n",
        "<p>\n",
        "\n",
        "\n",
        "\n",
        "\n",
        "\n",
        "<br><br>\n",
        "<h3>Funzione obiettivo:<h3>\n",
        "$$\n",
        "\\begin{align*}\n",
        "\\min z = 4y_1 + 6y_2 + 10y_3 + 14y_4 + 5y_5 + 6y_5\n",
        "\\end{align*}\n",
        "$$\n",
        "<br>\n",
        "<p>\n",
        "La funzione obiettivo è molto semplice, pretendiamo banalmente che il costo sia minore possiblie.\n",
        "<p>\n",
        "\n",
        "\n",
        "\n",
        "\n",
        "\n",
        "<br><br>\n",
        "<h3>Vincoli, l'idea<h3>\n",
        "$$\n",
        "\\begin{align*}\n",
        "\\text{e.g. per la stazione 1... } \\quad & \\xrightarrow{\\text{}} \\quad 0y_1 + 1y_2 + \\ldots{} + 1y_5 + 0y_6 \\leq 1\n",
        "\\end{align*}\n",
        "$$\n",
        "<br>\n",
        "<p>\n",
        "Questo vincolo ci garantisce per che la zona 1 sia coperta al peggio da un solo centro.<br>\n",
        "n.b.: come nel caso in cui la stazione &nbsp;<i>j</i>&nbsp; non sarebbe comunque in grado di garantire gli 8 miuti al centro 1, &nbsp;<i>(0 * y_j)</i>&nbsp; il valore sarebbe 0 sia se &nbsp;<i>y_j</i>&nbsp; assumesse valore 1 che se assumesse valore 0.<br>\n",
        "E così via per ogni zona &nbsp;<i>i</i>&nbsp; ...\n",
        "<p>\n",
        "\n",
        "\n",
        "\n",
        "<br><br>\n",
        "<h3>Modello matematico in forma compatta:<h3>\n",
        "$$\n",
        "\\begin{align*}\n",
        "\\min \\quad & z = \\sum_{j=1}^{6} \\text{costo}_j \\cdot y_j \\\\\n",
        "\\text{s.t.} \\quad & \\sum_{j=1}^{6} \\text{servizio}_{ij} \\cdot y_j \\geq 1 \\qquad \\forall \\quad i \\\\\n",
        "& y_j \\in \\{0, 1\\}\n",
        "\\end{align*}\n",
        "$$\n",
        "\n",
        "\n"
      ],
      "metadata": {
        "id": "rSZBPNDkC6uO"
      }
    },
    {
      "cell_type": "markdown",
      "source": [
        "<br>"
      ],
      "metadata": {
        "id": "aSE078rsCudz"
      }
    },
    {
      "cell_type": "markdown",
      "source": [
        "<br>\n",
        "<h2>Modello AMPL<h2>\n",
        "\n",
        "<p>\n",
        "Adesso mettiamo in codice, quanto formalizzato sopra.\n",
        "<br>\n",
        "Per poter risolvere il modello in forma compatta, creeremo 2 file:\n",
        "\n",
        "*   file.mod &nbsp; -->  &nbsp; che conterrà il modello\n",
        "*   file.dat &nbsp; -->  &nbsp; che conterrà i dati\n"
      ],
      "metadata": {
        "id": "RhkE6LvKhIrv"
      }
    },
    {
      "cell_type": "code",
      "source": [
        "# === progetto_35.mod ================================================================================================================================ #\n",
        "\n",
        "# --- indici ----------------------------------------------------------------------------------------------------------------------------------------- #\n",
        "set zone := A B C D E;\n",
        "set stazioni := 1 2 3 4 5 6;\n",
        "\n",
        "# --- costo_j ---------------------------------------------------------------------------------------------------------------------------------------- #\n",
        "param costo :=\n",
        "1 4\n",
        "2 6\n",
        "3 10\n",
        "4 14\n",
        "5 5\n",
        "6 6;\n",
        "\n",
        "# --- servizio_ij ------------------------------------------------------------------------------------------------------------------------------------ #\n",
        "param servizio: 1 2 3 4 5 6   :=\n",
        "\n",
        "A               0 1 1 1 1 0\n",
        "B               0 0 1 1 0 0\n",
        "C               1 1 0 0 0 1\n",
        "D               0 0 0 0 1 1\n",
        "E               1 1 1 0 0 0;\n",
        "\n",
        "# -------------------------------------------------------------------------------------------------------------------------------------------------- #"
      ],
      "metadata": {
        "id": "lrMZEstmiTaQ"
      },
      "execution_count": null,
      "outputs": []
    },
    {
      "cell_type": "markdown",
      "source": [
        "<br>"
      ],
      "metadata": {
        "id": "fKhhdpbDkCY_"
      }
    },
    {
      "cell_type": "code",
      "source": [
        "# === progetto_35.dat ================================================================================================================================ #\n",
        "\n",
        "# --- indici ----------------------------------------------------------------------------------------------------------------------------------------- #\n",
        "set zone;\n",
        "set stazioni;\n",
        "\n",
        "# --- costo_j ---------------------------------------------------------------------------------------------------------------------------------------- #\n",
        "param costo{stazioni};\n",
        "\n",
        "# --- servizio_ij ------------------------------------------------------------------------------------------------------------------------------------ #\n",
        "param servizio{zone, stazioni};\n",
        "\n",
        "# --- variabile binaria y_j -------------------------------------------------------------------------------------------------------------------------- #\n",
        "var y{j in stazioni} binary;\n",
        "\n",
        "# --- funzione obiettivo ----------------------------------------------------------------------------------------------------------------------------- #\n",
        "minimize CostoTotale:\n",
        "    sum {j in stazioni} costo[j] * y[j];\n",
        "\n",
        "# --- vincoli ---------------------------------------------------------------------------------------------------------------------------------------- #\n",
        "subject to CoperturaZone {i in zone}:\n",
        "    sum {j in stazioni} servizio[i,j] * y[j] >= 1;\n",
        "\n",
        "# ---------------------------------------------------------------------------------------------------------------------------------------------------- #"
      ],
      "metadata": {
        "id": "aNX6Uyr9igCq"
      },
      "execution_count": null,
      "outputs": []
    },
    {
      "cell_type": "markdown",
      "source": [
        "<br>"
      ],
      "metadata": {
        "id": "2cVRCnMekcc0"
      }
    },
    {
      "cell_type": "markdown",
      "source": [
        "<h2>Soluzione<h2>\n",
        "<p>\n",
        "Risolvendo il modello troviamo:\n",
        "\n",
        "*   Costo minimo: &nbsp; 16 milioni\n",
        "*   Stazioni aperte: &nbsp; stazione_3, stazione_6\n",
        "<p>"
      ],
      "metadata": {
        "id": "Rf8bK4ZvkewR"
      }
    },
    {
      "cell_type": "markdown",
      "source": [
        "<br>\n"
      ],
      "metadata": {
        "id": "sfOqinkllHF2"
      }
    },
    {
      "cell_type": "markdown",
      "source": [
        "<h2>Variazione sui dati<h2>\n",
        "\n",
        "<h3>Premessa<h3>\n",
        "\n",
        "<p>\n",
        "Adesso, come anticipato prima, supponiamo che il costo dei di apertura delle stazioni dipenda da prezzo dei materiali, che a loro volta dipendono da altri fattori...\n",
        "<br><br>\n",
        "Per costruire le stazioni occorrono tre tipologie di materiali.<br>\n",
        "Inoltre supponiamo di riuscire a prevedere esattamente il prezzo dei materiali nel futuro perchè siamo in possesso di informazioni sensibili.\n",
        "Nello sspecifico sappiamo che:\n",
        "\n",
        "*   materiale_1 &nbsp; --> &nbsp; a causa della reperibilità legata alle stagioni, ha un prezzo oscillante annualmente\n",
        "*   materiale_2 &nbsp; --> &nbsp; a causa della sua dipendenza dal costo dell'energia, ha un prezzo che è schizzato in un certo periodo a causa di una crisi del petrolio per poi ritornare alla normallità\n",
        "*   materiale_3 &nbsp; --> &nbsp; a causa della scarsità, essendo una risorsa che sta per terminare, ha un prezzo che cresce linearmente.\n",
        "<p>\n",
        "<br>\n",
        "\n",
        "<p>\n",
        "Ipotizziamo che si riunisca un consiglio per decidere all'unanimità se costruire o meno le stazioni.\n",
        "<br>\n",
        "Se tutti i componenti del consiglio votassero 'SI' alla costruzione allora è chiaro che si opterebbe per minimizzare i costi di costruzione a parità di servizio (nessuno vuole pagare più del minimo per il medesimo servizio).\n",
        "<br>\n",
        "Se non si raggiunge l'unanimità, allora il consiglio si riunirà nuovamente dopo 6 mesi e si siederà allo stesso tavolo per ridiscutere la costruzione o meno delle stazioni.\n",
        "<br><br>\n",
        "Nel frattempo però i prezzi dei materiali cambiano...\n",
        "<p>\n",
        "\n"
      ],
      "metadata": {
        "id": "Yi0eXGnHlUlI"
      }
    },
    {
      "cell_type": "markdown",
      "source": [
        "<h3>Dati sui prezzi e dipendeza della matrice costo<h3>\n",
        "\n",
        "<p>\n",
        "Siano le variazioni dei prezzi per ogni 1000 tonnellate di materiale in milioni di euro approssimati dalle seguenti funzioni:\n",
        "<p>\n",
        "<br>\n",
        "\n",
        "$$\n",
        "\\begin{cases}\n",
        "\\text{p.p.1000t. } m_1(t) = \\sin(\\pi t) + 2 \\\\\n",
        "\\text{p.p.1000t. } m_2(t) = -\\dfrac{12}{25}x^2 + \\dfrac{12}{5}x + 1 \\\\\n",
        "\\text{p.p.1000t. } m_3(t) = x + 1\n",
        "\\end{cases}\n",
        "$$\n",
        "\n",
        "<br>\n",
        "<p>\n",
        "n.b.: da qui in poi semplificheremo la notazione in &nbsp;<i>m_1</i>&nbsp;, &nbsp;<i>m_2</i>&nbsp;, &nbsp;<i>m_3</i>&nbsp;, ma esprimeranno sempre lo stesso dato.\n",
        "<p>"
      ],
      "metadata": {
        "id": "ZDo8BNeecZqq"
      }
    },
    {
      "cell_type": "markdown",
      "source": [
        "<br>\n",
        "<br>\n",
        "<br>\n",
        "<br>\n",
        "<br>\n",
        "<br>\n",
        "<br>\n",
        "<br>\n",
        "<br>\n",
        "<br>\n",
        "<br>\n",
        "<br>\n",
        "<br>"
      ],
      "metadata": {
        "id": "8bXk9rhNm4qL"
      }
    },
    {
      "cell_type": "markdown",
      "source": [
        "<p>\n",
        "Dopo aver osservato come variano i prezzi dei materiali, introduciamo la funzione di dipendenza del vettore &nbsp;<i>costo_j</i>&nbsp; dalle funzioni dei materiali\n",
        "<p>\n",
        "\n",
        "$$\n",
        "\\vec{costo}_j(t) ^\\top = \\vec{costo}_j\\left(m_1(t), m_2(t), m_3(t)\\right) ^\\top =\n",
        "\\begin{bmatrix}\n",
        "1 \\cdot m_1(t) + 1 \\cdot m_2(t) + 1 \\cdot m_3(t) \\\\\n",
        "2 \\cdot m_1(t) + 1 \\cdot m_2(t) + 1 \\cdot m_3(t) \\\\\n",
        "3 \\cdot m_1(t) + 3 \\cdot m_2(t) + 1 \\cdot m_3(t) \\\\\n",
        "2 \\cdot m_1(t) + 8 \\cdot m_2(t) + 2 \\cdot m_3(t) \\\\\n",
        "1 \\cdot m_1(t) + 3 \\cdot m_2(t) + 0 \\cdot m_3(t) \\\\\n",
        "2 \\cdot m_1(t) + 1 \\cdot m_2(t) + 1 \\cdot m_3(t)\n",
        "\\end{bmatrix}\n",
        "$$\n",
        "<br>\n",
        "\n",
        "<p>\n",
        "Secondo questa supposizione, il problema che abbiamo risolto prima è stato risolto in &nbsp;<i>t = 0</i>&nbsp;, anche se non ne eravamo consapevoli.\n",
        "<br><br>\n",
        "Essendo:\n",
        "$$\n",
        "\\begin{cases}\n",
        "\\ m_1(0) = \\sin(\\pi \\cdot 0) + 2 = 2 \\\\\n",
        "\\ m_2(0) = -\\dfrac{12}{25} \\cdot 0^2 + \\dfrac{12}{5} \\cdot 0 + 1 = 1 \\\\\n",
        "\\ m_3(0) = 0 + 1 = 1\n",
        "\\end{cases}\n",
        "$$\n",
        "<br>\n",
        "... è banale verificare che:\n",
        "<p>\n",
        "\n",
        "<br>\n",
        "$$\n",
        "\\vec{costo}_j(0) ^\\top = \\vec{costo}_j\\left(m_1(0), m_2(0), m_3(0)\\right) ^\\top =\n",
        "\\begin{bmatrix}\n",
        "1 \\cdot m_1(0) + 1 \\cdot m_2(0) + 1 \\cdot m_3(0) \\\\\n",
        "2 \\cdot m_1(0) + 1 \\cdot m_2(0) + 1 \\cdot m_3(0) \\\\\n",
        "3 \\cdot m_1(0) + 3 \\cdot m_2(0) + 1 \\cdot m_3(0) \\\\\n",
        "2 \\cdot m_1(0) + 8 \\cdot m_2(0) + 2 \\cdot m_3(0) \\\\\n",
        "1 \\cdot m_1(0) + 3 \\cdot m_2(0) + 0 \\cdot m_3(0) \\\\\n",
        "2 \\cdot m_1(0) + 1 \\cdot m_2(0) + 1 \\cdot m_3(0)\n",
        "\\end{bmatrix}\n",
        "=\n",
        "\\begin{bmatrix}\n",
        "1 \\cdot 2 + 1 \\cdot 1 + 1 \\cdot 1 \\\\\n",
        "2 \\cdot 2 + 1 \\cdot 1 + 1 \\cdot 1 \\\\\n",
        "3 \\cdot 2 + 3 \\cdot 1 + 1 \\cdot 1 \\\\\n",
        "2 \\cdot 2 + 8 \\cdot 1 + 2 \\cdot 1 \\\\\n",
        "1 \\cdot 2 + 3 \\cdot 1 + 0 \\cdot 1 \\\\\n",
        "2 \\cdot 2 + 1 \\cdot 1 + 1 \\cdot 1\n",
        "\\end{bmatrix}\n",
        "=\n",
        "\\begin{bmatrix}\n",
        "4  \\\\\n",
        "6  \\\\\n",
        "10 \\\\\n",
        "14 \\\\\n",
        "5  \\\\\n",
        "6\n",
        "\\end{bmatrix}\n",
        "$$\n",
        "\n",
        "<p>\n",
        "e così via...\n",
        "<br><br>\n",
        "Come potrebbe essere solito, è difficoltoso arrivare all'unanimità.\n",
        "Pertanto risolviamo il problema per ogni &nbsp;<i>t/2</i>&nbsp; (sei mesi, ossia per ogni possibile cosiglio di amministrazione nel caso in cui non si fosse arrivati ad una decisione precedentemente) per &nbsp;<i>0 < t < 5</i>&nbsp; (5 anni).\n",
        "<br><br>\n",
        "Con la stessa procedura utilizzata per calocalre il vettore &nbsp;<i>costo_j in t(0)</i>&nbsp; ricaviamo:\n",
        "<p>\n",
        "\n",
        "<br>\n",
        "$$\n",
        "\\begin{align*}\n",
        "\\text{costo}_j (0.0) = [\\, 4.00,\\, 6.00,\\, 10.00,\\, 14.00,\\,  5.00,\\,  6.00\\,]\\\\\n",
        "\\text{costo}_j (0.5) = [\\, 6.58,\\, 9.58,\\, 16.64,\\, 25.64,\\,  9.24,\\,  4.50\\,]\\\\\n",
        "\\text{costo}_j (1.0) = [\\, 6.92,\\, 8.92,\\, 16.76,\\, 31.36,\\, 10.76,\\,  4.00\\,]\\\\\n",
        "\\text{costo}_j (1.5) = [\\, 7.02,\\,  8.02,\\, 16.06,\\, 35.16,\\, 11.56,\\, 3.50\\,]\\\\\n",
        "\\text{costo}_j (2.0) = [\\, 8.88,\\, 10.88,\\, 20.64,\\, 41.04,\\, 13.64,\\, 5.00\\,]\\\\\n",
        "\\text{costo}_j (2.5) = [\\, 10.5,\\, 13.50,\\, 24.50,\\, 45.00,\\, 15.00,\\, 6.50\\,]\\\\\n",
        "\\text{costo}_j (3.0) = [\\, 9.88,\\, 11.88,\\, 21.64,\\, 43.04,\\, 13.64,\\, 6.00\\,]\\\\\n",
        "\\text{costo}_j (3.5) = [\\, 9.02,\\, 10.02,\\, 18.06,\\, 39.16,\\, 11.56,\\, 5.50\\,]\\\\\n",
        "\\text{costo}_j (4.0) = [\\, 9.92,\\, 11.92,\\, 19.76,\\, 37.36,\\, 10.76,\\, 7.00\\,]\\\\\n",
        "\\text{costo}_j (4.5) = [\\,10.58,\\, 13.58,\\, 20.74,\\, 33.64,\\, 9.24,\\, 8.50\\,]\\\\\n",
        "\\text{costo}_j (5.0) = [\\, 9.00,\\, 11.00,\\, 15.00,\\, 24.00,\\, 5.00,\\, 8.00 \\,]\\\\\n",
        "\\end{align*}\n",
        "$$\n"
      ],
      "metadata": {
        "id": "_cH9TutafCux"
      }
    },
    {
      "cell_type": "markdown",
      "source": [
        "<h3>Soluzioni<h3>\n",
        "<p>\n",
        "Essendo particolarmente noioso risolvere manualmente 11 modelli diversi 'manualmente', aggrediremo i problemi nel seguente modo:\n",
        "\n",
        "\n",
        "*   utilizziamo lo stesso file.mod del problema originale per poi variare solo il file.dat con il vettore costo corrispondente alla variazione di pertinenza.\n",
        "*   Scriviamo uno script (launcher.run) che resetta il modello dopo averlo risolto, per poi ricaricare l'unico file.mod + file.dat della variazione successiva\n",
        "*   Raccogliamo in un file.txt i dati raccolti\n",
        "\n",
        "<br>\n",
        "<p>\n",
        "Sotto un'esempio della logica utilizzata per scrivere launcher.run:\n",
        "<p>"
      ],
      "metadata": {
        "id": "JlNt9NmLT1uI"
      }
    },
    {
      "cell_type": "code",
      "source": [
        "# === file.run ======================================================================================================================================= #\n",
        "# ==================================================================================================================================================== #\n",
        "\n",
        "\n",
        "# === problema originale ============================================================================================================================= #\n",
        "\n",
        "# --- carica i file----------------------------------------------------------------------------------------------------------------------------------- #\n",
        "model 'file_path/file.mod';\n",
        "data 'file_path/file.dat';\n",
        "\n",
        "# --- risolve ---------------------------------------------------------------------------------------------------------------------------------------- #\n",
        "solve;\n",
        "display y;\n",
        "\n",
        "# --- scrive sul file.txt ---------------------------------------------------------------------------------------------------------------------------- #\n",
        "printf 'Problema originale: \\nStazioni aperte:  ' > 'file_path/file.txt';\n",
        "for {j in stazioni: y[j] = 1} {\n",
        "    printf '%s  ', j >> 'file_path/file.txt';\n",
        "}\n",
        "printf '  ==>  Costo totale = %f\\n\\n', CostoTotale >> 'file_path/file.txt';\n",
        "\n",
        "# --- reset ------------------------------------------------------------------------------------------------------------------------------------------ #\n",
        "reset;\n",
        "\n",
        "\n",
        "\n",
        "# === variazione 1 =================================================================================================================================== #\n",
        "\n",
        "# --- stessa logica di prima ... --------------------------------------------------------------------------------------------------------------------- #\n",
        "model 'file_path/file.mod';\n",
        "data 'file_path/file_variazione_0.dat';\n",
        "\n",
        "solve;\n",
        "display y;\n",
        "\n",
        "printf 'Problema originale: \\nStazioni aperte:  ' > 'file_path/file.txt';\n",
        "for {j in stazioni: y[j] = 1} {\n",
        "    printf '%s  ', j >> 'file_path/file.txt';\n",
        "}\n",
        "printf '  ==>  Costo totale = %f\\n\\n', CostoTotale >> 'file_path/file.txt';\n",
        "\n",
        "reset;\n",
        "\n",
        "\n",
        "# ----------------------------------------------------------------------------------------------------- e così via ... ------------------------------ #\n"
      ],
      "metadata": {
        "id": "9bMBOi-qXdaj"
      },
      "execution_count": null,
      "outputs": []
    },
    {
      "cell_type": "markdown",
      "source": [
        "<p>\n",
        "Il file 'risultati.txt' ha raccolto tutti i risultati dei problemi derivati dalla varazione di &nbsp;<i>costo_j</i>&nbsp; .\n"
      ],
      "metadata": {
        "id": "UfoBTjGxZcUV"
      }
    },
    {
      "cell_type": "code",
      "source": [
        "# === risultati.txt ================================================================================================================================== #\n",
        "# ==================================================================================================================================================== #\n",
        "\n",
        "Problema originale:\n",
        "Stazioni aperte:  3  6    ==>  Costo totale = 16.000000\n",
        "\n",
        "Variazione 0:\n",
        "Stazioni aperte:  3  6    ==>  Costo totale = 26.320000\n",
        "\n",
        "Variazione 1:\n",
        "Stazioni aperte:  3  6    ==>  Costo totale = 25.680000\n",
        "\n",
        "Variazione 2:\n",
        "Stazioni aperte:  3  6    ==>  Costo totale = 24.080000\n",
        "\n",
        "Variazione 3:\n",
        "Stazioni aperte:  3  6    ==>  Costo totale = 31.520000\n",
        "\n",
        "Variazione 4:\n",
        "Stazioni aperte:  3  6    ==>  Costo totale = 38.000000\n",
        "\n",
        "Variazione 5:\n",
        "Stazioni aperte:  3  6    ==>  Costo totale = 33.520000\n",
        "\n",
        "Variazione 6:\n",
        "Stazioni aperte:  3  6    ==>  Costo totale = 28.080000\n",
        "\n",
        "Variazione 7:\n",
        "Stazioni aperte:  3  6    ==>  Costo totale = 31.680000\n",
        "\n",
        "Variazione 8:\n",
        "Stazioni aperte:  3  6    ==>  Costo totale = 34.320000\n",
        "\n",
        "Variazione 9:\n",
        "Stazioni aperte:  3  6    ==>  Costo totale = 26.000000\n"
      ],
      "metadata": {
        "id": "sJSfaFM1aJbP"
      },
      "execution_count": null,
      "outputs": []
    },
    {
      "cell_type": "markdown",
      "source": [
        "<h3>Conclusioni<h3>\n",
        "\n",
        "<p>\n",
        "Dall'analisi si evince (con sorpresa) che cambia il valore della funzione obiettivo per ogni variazione, ma non cambia mai le stazioni che verranno eventualmente aperte!!!\n",
        "<br><br>\n",
        "Non solo !... si potrebbe estendendere il problema e verificare che per ogni valore delle funzioni dei prezzi dei materiali NON cambiano le stazioni che verranno aperte (data come fissa la dipendenza di &nbsp;<i>costo_j</i>&nbsp; dai materiali &nbsp;<i>m_k</i>&nbsp; e la matrice &nbsp;<i>servizio_ij</i>&nbsp;).\n",
        "<br><br>\n",
        "Questo si potrebbe dimostrare empiricamente facendo n simulazioni dove n è un numero molto grande. L'idea sarebbe di analizzare come varia la funzione obiettivo rispetto al tempo nelle n simulazioni.\n",
        "<br><br>\n",
        "Se la funzione 'non fa salti' (cioè il delta tra la la f(x) ob. della &nbsp;<i>i-esima</i>&nbsp; variazione  e la f(x) ob. della &nbsp;<i>(i + 1)-esima</i>&nbsp; è infinitesimale) allora 'probabilmente' non cambierano mai le stazioni da aprire.\n",
        "<br><br>\n",
        "Oppure si potrebbe dimostrare formalmente se non richiede troppo sforzo. A volte è meglio una soluzione approssimata piuttosto che una esatta.\n",
        "<p>\n",
        "<br>"
      ],
      "metadata": {
        "id": "kmQwPHNAac09"
      }
    },
    {
      "cell_type": "markdown",
      "source": [
        "<h2>...ma cosa vogliono dire in concreto i risultati trovati???<h2>\n",
        "\n",
        "<p>\n",
        "Vuol dire che non solo la soluzione (stazioni: 3, 6) è ottima per il problema originale, ma è particolarmente resistente alle fluttuazioni di mercati.<br>\n",
        "Anche se i prezzi fluttuano abbastanza anche in maniera non proporzionale la decisione non è molto influenzata da questi ultimi.\n",
        "<br><br>\n",
        "Servirebbe, esempio, una catastrofe naturale sul territorio dove dovrebbe essere costruita la stazione 6 che renderebbe molto costoso (es.100 mln) la costruzione di quest'ultima per far diventare le &nbsp;<i>stazioni_ottime: 1, 3, 5</i>&nbsp;.\n",
        "<br><br>\n",
        "Tale risultato però è intuitivo, perchè osservando bene la coppia (3, 6) è l'unica complementare. Pertanto la seconda soluzione ottima è composta da un trio di stazioni. In altre parole dovrebbe esserci una variazione di costo così importante da far diventare la costruzione di 3 stazioni più conveniente di costruirne 2.\n",
        "<p>"
      ],
      "metadata": {
        "id": "TANpvxnv9vxf"
      }
    }
  ]
}